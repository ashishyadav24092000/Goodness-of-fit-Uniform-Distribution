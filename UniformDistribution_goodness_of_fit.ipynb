{
 "cells": [
  {
   "cell_type": "markdown",
   "id": "9c7fd22d",
   "metadata": {},
   "source": [
    "## Checking the Goodness of Fit for uniform Distribution"
   ]
  },
  {
   "cell_type": "code",
   "execution_count": 3,
   "id": "77ac097a",
   "metadata": {},
   "outputs": [
    {
     "data": {
      "text/plain": [
       "24.724970311318277"
      ]
     },
     "execution_count": 3,
     "metadata": {},
     "output_type": "execute_result"
    }
   ],
   "source": [
    "from scipy.stats import chi2\n",
    "## To calculate the chi-square table value\n",
    "chi2.ppf(0.99,11)  ## alpha =1%,dof=11"
   ]
  },
  {
   "cell_type": "code",
   "execution_count": 4,
   "id": "e72c70f7",
   "metadata": {},
   "outputs": [],
   "source": [
    "x = [1610,1585,1649,1590,1540,1397,1410,1350,1495,1564,1602,1655]"
   ]
  },
  {
   "cell_type": "code",
   "execution_count": 10,
   "id": "8df584a7",
   "metadata": {},
   "outputs": [
    {
     "data": {
      "text/plain": [
       "1537.25"
      ]
     },
     "execution_count": 10,
     "metadata": {},
     "output_type": "execute_result"
    }
   ],
   "source": [
    "import numpy as np\n",
    "mean = np.mean(x)\n",
    "mean"
   ]
  },
  {
   "cell_type": "code",
   "execution_count": 11,
   "id": "3941a2c9",
   "metadata": {},
   "outputs": [],
   "source": [
    "exp_freq = []\n",
    "for i in x:\n",
    "    exp_freq.append(mean)"
   ]
  },
  {
   "cell_type": "code",
   "execution_count": 12,
   "id": "56e01eb1",
   "metadata": {},
   "outputs": [
    {
     "data": {
      "text/plain": [
       "[1537.25,\n",
       " 1537.25,\n",
       " 1537.25,\n",
       " 1537.25,\n",
       " 1537.25,\n",
       " 1537.25,\n",
       " 1537.25,\n",
       " 1537.25,\n",
       " 1537.25,\n",
       " 1537.25,\n",
       " 1537.25,\n",
       " 1537.25]"
      ]
     },
     "execution_count": 12,
     "metadata": {},
     "output_type": "execute_result"
    }
   ],
   "source": [
    "exp_freq"
   ]
  },
  {
   "cell_type": "code",
   "execution_count": 14,
   "id": "aa5372bb",
   "metadata": {},
   "outputs": [
    {
     "data": {
      "text/plain": [
       "Power_divergenceResult(statistic=74.37583346885673, pvalue=1.78545252783034e-11)"
      ]
     },
     "execution_count": 14,
     "metadata": {},
     "output_type": "execute_result"
    }
   ],
   "source": [
    "import scipy.stats\n",
    "scipy.stats.chisquare(x,exp_freq)"
   ]
  },
  {
   "cell_type": "markdown",
   "id": "bd60a75e",
   "metadata": {},
   "source": [
    "# Since \n",
    "    p-value = 1.78545252783034e-11 < alpha = 0.01 => reject null hypothesis\n",
    "## Therefore\n",
    "    Our dataset does not follow the uniform Distribution."
   ]
  }
 ],
 "metadata": {
  "kernelspec": {
   "display_name": "Python 3",
   "language": "python",
   "name": "python3"
  },
  "language_info": {
   "codemirror_mode": {
    "name": "ipython",
    "version": 3
   },
   "file_extension": ".py",
   "mimetype": "text/x-python",
   "name": "python",
   "nbconvert_exporter": "python",
   "pygments_lexer": "ipython3",
   "version": "3.8.8"
  }
 },
 "nbformat": 4,
 "nbformat_minor": 5
}
